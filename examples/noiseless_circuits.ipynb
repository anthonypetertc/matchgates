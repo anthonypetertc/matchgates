{
 "cells": [
  {
   "cell_type": "markdown",
   "metadata": {},
   "source": [
    "Simulation of XY and Ising models with no noise."
   ]
  },
  {
   "cell_type": "code",
   "execution_count": 1,
   "metadata": {},
   "outputs": [],
   "source": [
    "from matchgates.generators import XY_circuit, Ising_circuit"
   ]
  },
  {
   "cell_type": "markdown",
   "metadata": {},
   "source": [
    "Specify the parameters for the evolution:"
   ]
  },
  {
   "cell_type": "code",
   "execution_count": 2,
   "metadata": {},
   "outputs": [],
   "source": [
    "n_qubits = 20  # number of qubits\n",
    "dt = 0.1  # trotter step time interval\n",
    "J = 0.5  # coupling strength\n",
    "h = 0.23  # tranverse field\n",
    "trotter_steps = 10  # number of trotter steps\n",
    "\n",
    "# generate the XY and Ising circuits.\n",
    "xy = XY_circuit(n_qubits=n_qubits, dt=dt, J=J, h=h, trotter_steps=trotter_steps)\n",
    "ising = Ising_circuit(n_qubits=n_qubits, dt=dt, J=J, h=h, trotter_steps=trotter_steps)"
   ]
  },
  {
   "cell_type": "markdown",
   "metadata": {},
   "source": [
    "Next, prepare the observables that you would like to compute\n",
    "(supported observables: Z, ZZ, XY, XX, YY, YX).\n",
    "Two qubit observables must be nearest neighbour.\n",
    "\n",
    "We also want to prepare the initial product state. \n",
    "This can be done using the ProductState class, which can be\n",
    "initiated by a list of N 2-dimensional complex arrays,\n",
    "representing any initial product state.\n",
    "There are also class methods that allow for the generation \n",
    "of initial uniform product states and neel states."
   ]
  },
  {
   "cell_type": "code",
   "execution_count": 3,
   "metadata": {},
   "outputs": [],
   "source": [
    "from matchgates import Observable, ProductState\n",
    "\n",
    "obsz = Observable(name=\"Z\", qubits=[8], n_qubits=n_qubits)\n",
    "obsyx = Observable(name=\"YX\", qubits=[9, 10], n_qubits=n_qubits)\n",
    "\n",
    "# prepare initial product state.\n",
    "initial_state = ProductState.neel(even=True, n_qubits=n_qubits)\n",
    "# Prepares the Neel state with excitations |1> on all even sites, including 0.\n",
    "# e.g. even=True => |101010101010> and even=False => |010101010101>"
   ]
  },
  {
   "cell_type": "markdown",
   "metadata": {},
   "source": [
    "Finally, we can compute the expectation values of each circuit on the chosen observables, starting from the specified initial state.\n",
    "This can be done using the simulate method of each Circuit object. The results are returned in a dictionary format."
   ]
  },
  {
   "cell_type": "code",
   "execution_count": 4,
   "metadata": {},
   "outputs": [
    {
     "name": "stdout",
     "output_type": "stream",
     "text": [
      "Results of XY circuit: {('Z', (8,)): np.float64(0.3913787040629941), ('YX', (9, 10)): np.float64(0.11739609890664145)}\n",
      "Results of Ising circuit: {('Z', (8,)): np.float64(-0.28987847613673684), ('YX', (9, 10)): np.float64(-0.4603240121688985)}\n"
     ]
    }
   ],
   "source": [
    "results = xy.simulate([obsz, obsyx], initial_state)\n",
    "print(\"Results of XY circuit:\", results)\n",
    "\n",
    "results = ising.simulate([obsz, obsyx], initial_state)\n",
    "print(\"Results of Ising circuit:\", results)"
   ]
  }
 ],
 "metadata": {
  "kernelspec": {
   "display_name": "matchgates",
   "language": "python",
   "name": "python3"
  },
  "language_info": {
   "codemirror_mode": {
    "name": "ipython",
    "version": 3
   },
   "file_extension": ".py",
   "mimetype": "text/x-python",
   "name": "python",
   "nbconvert_exporter": "python",
   "pygments_lexer": "ipython3",
   "version": "3.12.5"
  }
 },
 "nbformat": 4,
 "nbformat_minor": 2
}
