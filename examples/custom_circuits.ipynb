{
 "cells": [
  {
   "cell_type": "markdown",
   "metadata": {},
   "source": [
    "It is possible to use this package to build custom circuits out of matchgates. To do this, follow the instructions below"
   ]
  },
  {
   "cell_type": "code",
   "execution_count": 28,
   "metadata": {},
   "outputs": [],
   "source": [
    "from matchgates import Circuit, MatchGate, AppliedMatchGate\n",
    "import numpy as np\n",
    "import scipy.linalg as la"
   ]
  },
  {
   "cell_type": "markdown",
   "metadata": {},
   "source": [
    "First, build the desired MatchGate objects. There are three choices of constructor for a MatchGate:\n",
    "\n",
    "(a) Specify the coefficients of each Pauli generator in a dictionary.\n",
    "\n",
    "(b) Provide the Unitary matrix representation of a matchgate directly as an np.ndarray.\n",
    "\n",
    "(c) Provide two matrices A & B with det(A) = det(B).\n",
    "\n",
    "As a simple example consider the matchgate:  \n",
    "\n",
    "$U = e^{-iXX}$"
   ]
  },
  {
   "cell_type": "code",
   "execution_count": 29,
   "metadata": {},
   "outputs": [
    {
     "name": "stdout",
     "output_type": "stream",
     "text": [
      "-1.0\n",
      "-1.0\n",
      "-1.0\n"
     ]
    }
   ],
   "source": [
    "param_dict = MatchGate.empty_param_dict()  # empty dictionary of parameters for all possible Pauli generators (z1, z2, zz, xx, xy, yx, yy)\n",
    "param_dict[\"xx\"] = -1.0\n",
    "U = MatchGate(param_dict)\n",
    "print(U.param_dict[\"xx\"])\n",
    "\n",
    "# To construct the matchgate from a Unitary, use the from_unitary class method.\n",
    "X = np.array([[0, 1], [1, 0]])\n",
    "XX = np.kron(X, X)\n",
    "unitary = la.expm(-1j * XX)\n",
    "U = MatchGate.from_unitary(unitary)\n",
    "print(\n",
    "    U.param_dict[\"xx\"]\n",
    ")  # check that it gives correct value of parameters for XX generator.\n",
    "\n",
    "# To construct the matchgate from A & B matrices, we use the from_AB class method.\n",
    "A = np.ndarray((2, 2), dtype=np.complex128)\n",
    "B = np.ndarray((2, 2), dtype=complex)\n",
    "A[0, 0] = unitary[0, 0]\n",
    "A[1, 1] = unitary[3, 3]\n",
    "A[0, 1] = unitary[0, 3]\n",
    "A[1, 0] = unitary[3, 0]\n",
    "B[0, 0] = unitary[1, 1]\n",
    "B[1, 0] = unitary[2, 1]\n",
    "B[0, 1] = unitary[1, 2]\n",
    "B[1, 1] = unitary[2, 2]\n",
    "\n",
    "U = MatchGate.from_AB(A, B)\n",
    "print(U.param_dict[\"xx\"])"
   ]
  },
  {
   "cell_type": "markdown",
   "metadata": {},
   "source": [
    "To create a circuit from this matchgate, we need to specify which qubits it acts on. Since matchgate circuits are only defined on nearest neighbour connectivity, the qubits are labelled from 0 to N. We can collect this information into an AppliedMatchGate object that can then be fed into a circuit:"
   ]
  },
  {
   "cell_type": "code",
   "execution_count": 30,
   "metadata": {},
   "outputs": [],
   "source": [
    "N = 10  # number of qubits in system.\n",
    "gate1 = AppliedMatchGate(U, N, [0, 1])  # AppliedMatchGate objects take the arguments:\n",
    "gate2 = AppliedMatchGate(\n",
    "    U, N, [7, 8]\n",
    ")  # (MatchGate, number of qubits of whole system, which pair of qubits the gate acts on)\n",
    "\n",
    "circuit = Circuit(\n",
    "    N, [gate1, gate2]\n",
    ")  # Circuits just need the number of qubits of the whole system and a list of AppliedMatchGate objects."
   ]
  },
  {
   "cell_type": "markdown",
   "metadata": {},
   "source": [
    "Now it is possible to run this circuit in the same way that the Ising and XY circuits are run in the example notebook: `examples/noiseless_circuits.ipynb`"
   ]
  }
 ],
 "metadata": {
  "kernelspec": {
   "display_name": "matchgates",
   "language": "python",
   "name": "python3"
  },
  "language_info": {
   "codemirror_mode": {
    "name": "ipython",
    "version": 3
   },
   "file_extension": ".py",
   "mimetype": "text/x-python",
   "name": "python",
   "nbconvert_exporter": "python",
   "pygments_lexer": "ipython3",
   "version": "3.12.5"
  }
 },
 "nbformat": 4,
 "nbformat_minor": 2
}
