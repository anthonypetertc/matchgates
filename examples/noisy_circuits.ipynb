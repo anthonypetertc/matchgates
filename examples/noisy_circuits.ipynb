{
 "cells": [
  {
   "cell_type": "markdown",
   "metadata": {},
   "source": [
    "Simulation of matchgate circuits with matchgate noise:"
   ]
  },
  {
   "cell_type": "code",
   "execution_count": 8,
   "metadata": {},
   "outputs": [
    {
     "name": "stdout",
     "output_type": "stream",
     "text": [
      "Step 1 / 30\n",
      "Avg. gate creation time per layer: 1.503360915929079\n",
      "Step 2 / 30\n",
      "Avg. gate creation time per layer: 1.2486695619300008\n",
      "Step 3 / 30\n",
      "Avg. gate creation time per layer: 1.111996916277955\n",
      "Step 4 / 30\n",
      "Avg. gate creation time per layer: 2.1185102394083515\n",
      "Step 5 / 30\n",
      "Avg. gate creation time per layer: 2.064086149726063\n",
      "Step 6 / 30\n",
      "Avg. gate creation time per layer: 2.15334047190845\n",
      "Step 7 / 30\n",
      "Avg. gate creation time per layer: 2.141404946201614\n",
      "Step 8 / 30\n",
      "Avg. gate creation time per layer: 2.0863327236729674\n",
      "Step 9 / 30\n",
      "Avg. gate creation time per layer: 1.9704998331661854\n",
      "Step 10 / 30\n",
      "Avg. gate creation time per layer: 1.9780819456558674\n",
      "Step 11 / 30\n",
      "Avg. gate creation time per layer: 1.8840249051678588\n",
      "Step 12 / 30\n",
      "Avg. gate creation time per layer: 1.8128780658201624\n",
      "Step 13 / 30\n",
      "Avg. gate creation time per layer: 1.753658967773215\n",
      "Step 14 / 30\n",
      "Avg. gate creation time per layer: 1.7516206545489175\n",
      "Step 15 / 30\n",
      "Avg. gate creation time per layer: 1.7337502748395006\n",
      "Step 16 / 30\n",
      "Avg. gate creation time per layer: 1.6945160311006475\n",
      "Step 17 / 30\n",
      "Avg. gate creation time per layer: 1.6573250439730198\n",
      "Step 18 / 30\n",
      "Avg. gate creation time per layer: 1.6114038169746183\n",
      "Step 19 / 30\n",
      "Avg. gate creation time per layer: 1.6088058046604459\n",
      "Step 20 / 30\n",
      "Avg. gate creation time per layer: 1.5664385185809806\n",
      "Step 21 / 30\n",
      "Avg. gate creation time per layer: 1.5229658113703841\n",
      "Step 22 / 30\n",
      "Avg. gate creation time per layer: 1.490952630548484\n",
      "Step 23 / 30\n",
      "Avg. gate creation time per layer: 1.4721852208730644\n",
      "Step 24 / 30\n",
      "Avg. gate creation time per layer: 1.4376270189532079\n",
      "Step 25 / 30\n",
      "Avg. gate creation time per layer: 1.4157657098770142\n",
      "Step 26 / 30\n",
      "Avg. gate creation time per layer: 1.3839837659257823\n",
      "Step 27 / 30\n",
      "Avg. gate creation time per layer: 1.359507469046447\n",
      "Step 28 / 30\n",
      "Avg. gate creation time per layer: 1.3583197707609673\n",
      "Step 29 / 30\n",
      "Avg. gate creation time per layer: 1.3354812370099385\n",
      "Step 30 / 30\n",
      "Avg. gate creation time per layer: 1.321475120789061\n"
     ]
    }
   ],
   "source": [
    "from matchgates.generators import XY_circuit\n",
    "\n",
    "n_qubits = 60  # number of qubits\n",
    "dt = 0.1  # trotter step time interval\n",
    "J = 0.5  # coupling strength\n",
    "h = 0.23  # tranverse field\n",
    "trotter_steps = 30  # number of trotter steps\n",
    "\n",
    "# generate the XY circuit.\n",
    "xy = XY_circuit(n_qubits=n_qubits, dt=dt, J=J, h=h, trotter_steps=trotter_steps)\n",
    "\n",
    "# Avg. gate creation time per layer: 47.14273891644552"
   ]
  },
  {
   "cell_type": "markdown",
   "metadata": {},
   "source": [
    "Prepare initial state and observables:"
   ]
  },
  {
   "cell_type": "code",
   "execution_count": 9,
   "metadata": {},
   "outputs": [],
   "source": [
    "from matchgates import Observable, ProductState\n",
    "\n",
    "obsz = Observable(name=\"Z\", qubits=[8], n_qubits=n_qubits)\n",
    "obsyx = Observable(name=\"YX\", qubits=[9, 10], n_qubits=n_qubits)\n",
    "\n",
    "# prepare initial product state.\n",
    "initial_state = ProductState.neel(even=True, n_qubits=n_qubits)"
   ]
  },
  {
   "cell_type": "markdown",
   "metadata": {},
   "source": [
    "To add noise to the circuit, need to make a choice of noise for each gate in the circuit.\n",
    "If all two qubit gates in the circuit have the same noise model, this noise model\n",
    "can be set up in a simple way:"
   ]
  },
  {
   "cell_type": "code",
   "execution_count": 10,
   "metadata": {},
   "outputs": [],
   "source": [
    "from matchgates import SingleGateNoise\n",
    "\n",
    "p = 0.002\n",
    "noise_channel = SingleGateNoise.matchgate_depolarizing(p=p)\n",
    "# matchgate depolarizing is equal probability of perturbation by \n",
    "# any matchgate Pauli (Z, ZZ, XY, YX, YY, XX). \n",
    "\n",
    "noisy_xy = xy.add_two_qubit_uniform_noise(noise_channel)  # Add noise to circuit."
   ]
  },
  {
   "cell_type": "markdown",
   "metadata": {},
   "source": [
    "A noisy circuit can be simulated using the simulate_noisy method.\n",
    "As the simulation is done by monte-carlo it is necessary to repeat\n",
    "over some number of repetitions, and this can be distributed over \n",
    "multiple jobs. What will be returned is a single dictionary with the \n",
    "mean values for all observables in the list, averaged over the\n",
    "repetitions specified."
   ]
  },
  {
   "cell_type": "code",
   "execution_count": 12,
   "metadata": {},
   "outputs": [
    {
     "name": "stdout",
     "output_type": "stream",
     "text": [
      "Results for XY circuit with noise: {'Z(8,)': np.float32(-0.036282398), 'YX(9, 10)': np.float32(0.21786572)}\n",
      "Sorted hash counts:\n",
      "[4, 1, 1, 1, 1, 1, 1, 1, 1, 1, 1, 1, 1, 1, 1, 1, 1, 1, 1, 1, 1, 1, 1, 1, 1, 1, 1, 1, 1, 1, 1, 1, 1, 1, 1, 1, 1, 1, 1, 1, 1, 1, 1, 1, 1, 1, 1, 1, 1, 1, 1, 1, 1, 1, 1, 1, 1, 1, 1, 1, 1, 1, 1, 1, 1, 1, 1, 1, 1, 1, 1, 1, 1, 1, 1, 1, 1, 1, 1, 1, 1, 1, 1, 1, 1, 1, 1, 1, 1, 1, 1, 1, 1, 1, 1, 1, 1]\n",
      "Frequency of all-identity trajectory: 0\n",
      "Most common string: IIIIIIIIIIIIIIIIIIIIIIIIIIIIIIIIIIIIIIIIIIIIIIIIIIIIIIIIIIIIIIIIIIIIIIIIIIIIIIIIIIIIIIIIIIIIIIIIIIIIIIIIIIIIIIIIIIIIIIIIIIIIIIIIIIIIIIIIIIIIIIIIIIIIIIIIIIIIIIIIIIIIIIIIIIIIIIIIIIIIIIIIIIIIIIIIIIIIIIIIIIIIIIIIIIIIIIIIIIIIIIIIIIIIIIIIIIIIIIIIIIIIIIIIIIIIIIIIIIIIIIIIIIIIIIIIIIIIIIIIIIIIIIIIIIIIIIIIIIIIIIIIIIIIIIIIIIIIIIIIIIIIIIIIIIIIIIIIIIIIIIIIIIIIIIIIIIIIIIIIIIIIIIIIIIIIIIIIIIIIIIIIIIIIIIIIIIIIIIIIIIIIIIIIIIIIIIIIIIIIIIIIIIIIIIIIIIIIIIIIIIIIIIIIIIIIIIIIIIIIIIIIIIIIIIIIIIIIIIIIIIIIIIIIIIIIIIIIIIIIIIIIIIIIIIIIIIIIIIIIIIIIIIIIIIIIIIIIIIIIIIIIIIIIIIIIIIIIIIIIIIIIIIIIIIIIIIIIIIIIIIIIIIIIIIIIIIIIIIIIIIIIIIIIIIIIIIIIIIIIIIIIIIIIIIIIIIIIIIIIIIIIIIIIIIIIIIIIIIIIIIIIIIIIIIIIIIIIIIIIIIIIIIIIIIIIIIIIIIIIIIIIIIIIIIIIIIIIIIIIIIIIIIIIIIIIIIIIIIIIIIIIIIIIIIIIIIIIIIIIIIIIIIIIIIIIIIIIIIIIIIIIIIIIIIIIIIIIIIIIIIIIIIIIIIIIIIIIIIIIIIIIIIIIIIIIIIIIIIIIIIIIIIIIIIIIIIIIIIIIIIIIIIIIIIIIIIIIIIIIIIIIIIIIIIIIIIIIIIIIIIIIIIIIIIIIIIIIIIIIIIIIIIIIIIIIIIIIIIIIIIIIIIIIIIIIIIIIIIIIIIIIIIIIIIIIIIIIIIIIIIIIIIIIIIIIIIIIIIIIIIIIIIIIIIIIIIIIIIIIIIIIIIIIIIIIIIIIIIIIIIIIIIIIIIIIIIIIIIIIIIIIIIIIIIIIIIIIIIIIIIIIIIIIIIIIIIIIIIIIIIIIIIIIIIIIIIIIIIIIIIIIIIIIIIIIIIIIIIIIIIIIIIIIIIIIIIIIIIIIIIIIIIIIIIIIIIIIIIIIIIIIIIIIIIIIIIIIIIIIIIIIIIIIIIIIIIIIIIIIIIIIIIIIIIIIIIIIIIIIIIIIIIIIIIIIIIIIIIIIIIIIIIIIIIIIIIIIIIIIIIIIIIIIIIIIIIIIIIIIIIIIIIIIIIIIIIIIIIIIIIIIIIIIIIIIIIIIIIIIIIIIIIIIIIIIIIIIIIIIIIIIIIIIIIIIIIIIIIIIIIIIIIIIIIIIIIIIIIIIIIIIIIIIIIIIIIIIIIIIIIIIIIIIIIIIIIIIIIIIIIIIIIIIIIIIIIIIIIIIIIIIIIIIIIIIIIIIIIIIIIIIIIIIIIIIIIIIIIIIIIIIIIIIIIIIIIIIIIIIIIIIIIIIIIIIIIIIIIIIIIIIIIIIIIIIIIIIIIIIIIIIIIIIIIIIIIIIIIIIIIIIIIIIIIIIIIIIIIIIIIIIIIIIIIIIIIIIIIIIIIIIIIIIIIIIIIIIIIIIIIIIIIIIIIIIIIIIIIIIIIIIIIIIIIIIIIIIIIIIIIIIIIIIIIIIIIIIIIIIIIIIIIIIIIIIIIIIIIIIIIIIIIIIIIIIIIIIIIIIIIIIIIIIIIIIIIIIIIIIIIIIIIIIIIIIIIIIIIIIIIIIIIIIIIIIIIIIIIIIIIIIIIIIIIIIIIIIIIIIIIIIIIIIIIIIIIIIIIIIIIIIIIIIIIIIIIIIIIIIIIIIIIIIIIIIIIIIIIIIIIIIIIIIIIIIIIIIIIIIIIIIIIIIIIIIIIIIIIIIIIIIIIIIIIIIIIIIIIIIIIIIIIIIIIIIIIIIIIIIIIIIIIIIIIIIIIIIIIIIIIIIIIIIIIIIIIIIIIIIIIIIIIIIIIIIIIIIIIIIIIIIIIIIIIIIIIIIIIIIIIIIIIIIIIIIIIIIIIIIIIIIIIIIIIIIIIIIIIIIIIIIIIIIIIIIIIIIIIIIIIIIIIIIIIIIIIIIIIIIIIIIIIIIIIIIIIIIIIIIIIIIIIIIIIIIIIIIIIIIIIIIIIIIIIIIIIIIIIIIIIIIIIIIIIIIIIIIIIIIIIIIIIIIIIIIIIIIIIIIIIIIIIIIIIIIIIIIIIIIIIIIIIIIIIIIIIIIIIIIIIIIIIIIIIIIIIIIIIIIIIIIIIIIIIIIIIIIIIIIIIIIIIIIIIIIIIIIIIIIIIIIIIIIIIIIIIIIIIIIIIIIIIIIIIIIIIIIIIIIIIIIIIIIIIIIIIIIIIIIIIIIIIIIIIIIIIIIIIIIIIIIIIIIIIIIIIIIIIIIIIIIIIIIIIIIIIIIIIIIIIIIIIIIIIIIIIIIIIIIIIIIIIIIIIIIIIIIIIIIIIIIIIIIIIIIIIIIIIIIIIIIIIIIIIIIIIIIIIIIIIIIIIIIIIIIIIIIIIIIIIIIIIIIIIIIIIIIIIIIIIIIIIIIIIIIIIIIIIIIIIIIIIIIIIIIIIIIIIIIIIIIIIIIIIIIIIIIIIIIIIIIIIIIIIIIIIIIIIIIIIIIIIIIIIIIIIIIIIIIIIIIIIIIIIIIIIIIIIIIIIIIIIIIIIIIIIIIIIIIIIIIIIIIIIIIIIIIIIIIIIIIIIIIIIIIIIIIIIIIIIIIIIIIIIIIIIIIIIIIIIIIIIIIIIIIIIIIIIIIIIIIIIIIIIIIIIIIIIIIIIIIIIIIIIIIIIIIIIIIIIIIIIIIIIIIIIIIIIIIIIIIIIIIIIIIIIIIIIIIIIIIIIIIIIIIIIIIIIIIIIIIIIIIIIIIIIIIIIIIIIIIIIIIIIIIIIIIIIIIIIIIIIIIIIIIIIIIIIIIIIIIIIIIIIIIIIIIIIIIIIIIIIIIIIIIIIIIIIIIIIIIIIIIIIIIIIIIIIIIIIIIIIIIIIIIIIIIIIIIIIIIIIIIIIIIIIIIIIIIIIIIIIIIIIIIIIIIIIIIIIIIIIIIIIIIIIIIIIIIIIIIIIIIIIIIIIIIIIIIIIIIIIIIIIIIIIIIIIIIIIIIIIIIIIIIIIIIIIIIIIIIIIIIIIIIIIIIIIIIIIIIIIIIIIIIIIIIIIIIIIIIIIIIIIIIIIIIIIIIIIIIIIIIIIIIIIIIIIIIIIIIIIIIIIIIIIIIIIIIIIIIIIIIIIIIIIIIIIIIIIIIIIIIIIIIIIIIIIIIIIIIIIIIIIIIIIIIIIIIIIIIIIIIIIIIIIIIIIIIIIIIIIIIIIIIIIIIIIIIIIIIIIIIIIIIIIIIIIIIIIIIIIIIIIIIIIIIIIIIIIIIIIIIIIIIIIIIIIIIIIIIIIIIIIIIIIIIIIIIIIIIIIIIIIIIIIIIIIIIIIIIIIIIIIIIIIIIIIIIIIIIIIIIIIIIIIIIIIIIIIIIIIIIIIIIIIIIIIIIIIIIIIIIIIIIIIIIIIIIIIIIIIIIIIIIIIIIIIIIIIIIIIIIIIIIIIIIIIIIIIIIIIIIII\n",
      "with frequency 4\n",
      "Avg. time per run: 2.1872972341673447s\n"
     ]
    }
   ],
   "source": [
    "from time import perf_counter\n",
    "\n",
    "n_jobs = 20\n",
    "n_jobs = 1\n",
    "repetitions = 100\n",
    "\n",
    "start = perf_counter()\n",
    "results, hash_counts = noisy_xy.simulate_noisy(n_jobs, [obsz, obsyx], repetitions, initial_state)\n",
    "end = perf_counter()\n",
    "\n",
    "print(\"Results for XY circuit with noise:\", results)\n",
    "\n",
    "hash_counts_sorted_by_freq = sorted(list(hash_counts.values()), reverse=True)\n",
    "trajectories_sorted_by_freq = sorted([(k, v,) for k, v in hash_counts.items()], key=lambda x: x[1], reverse=True)\n",
    "all_I_string = \"I\" * len(list(hash_counts.keys())[0])\n",
    "print(\"Sorted hash counts:\")\n",
    "print(hash_counts_sorted_by_freq)\n",
    "print(f\"Frequency of all-identity trajectory: {hash_counts[all_I_string]}\")\n",
    "print(f\"Most common string: {trajectories_sorted_by_freq[0][0]}\")\n",
    "print(f\"with frequency {hash_counts[trajectories_sorted_by_freq[0][0]]}\")\n",
    "\n",
    "print(f\"Avg. time per run: {(end - start) / repetitions}s\")"
   ]
  },
  {
   "cell_type": "markdown",
   "metadata": {},
   "source": [
    "In practice, I find it most convenient to loop the above over a large number of iterations\n",
    "and after each iterations append the results to a csv file. Then it is possible to access the\n",
    "data over multiple iterations and compute statistics (mean, std, etc.) to check how well \n",
    "converged the results are."
   ]
  },
  {
   "cell_type": "code",
   "execution_count": null,
   "metadata": {},
   "outputs": [],
   "source": [
    "from time import time\n",
    "import pandas as pd\n",
    "\n",
    "start_time = time()\n",
    "\n",
    "iterations = 4\n",
    "\n",
    "for i in range(iterations):\n",
    "    results = noisy_xy.simulate_noisy(n_jobs, [obsz, obsyx], repetitions, initial_state)\n",
    "    new_results = {}\n",
    "    for key in results.keys():\n",
    "        new_results[key] = [results[key]]\n",
    "    df = pd.DataFrame(new_results)\n",
    "    if i == 0:\n",
    "        df.to_csv(\n",
    "            f\"./XY_p{p}_N{n_qubits}_J{J}_h{h}_steps{trotter_steps}_rep{repetitions}.csv\",\n",
    "            mode=\"w\",\n",
    "            header=True,\n",
    "            index=False,\n",
    "        )\n",
    "    else:\n",
    "        df.to_csv(\n",
    "            f\"./XY_p{p}_N{n_qubits}_J{J}_h{h}_steps{trotter_steps}_rep{repetitions}.csv\",\n",
    "            mode=\"a\",\n",
    "            header=False,\n",
    "            index=False,\n",
    "        )\n",
    "    print(\"Iteration: \", i)\n",
    "    print(\"Time taken is \", time() - start_time)\n",
    "    start_time = time()"
   ]
  }
 ],
 "metadata": {
  "kernelspec": {
   "display_name": "matchgates",
   "language": "python",
   "name": "python3"
  },
  "language_info": {
   "codemirror_mode": {
    "name": "ipython",
    "version": 3
   },
   "file_extension": ".py",
   "mimetype": "text/x-python",
   "name": "python",
   "nbconvert_exporter": "python",
   "pygments_lexer": "ipython3",
   "version": "3.10.13"
  }
 },
 "nbformat": 4,
 "nbformat_minor": 2
}
