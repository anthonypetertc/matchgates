{
 "cells": [
  {
   "cell_type": "markdown",
   "metadata": {},
   "source": [
    "Simulation of matchgate circuits with matchgate noise:"
   ]
  },
  {
   "cell_type": "code",
   "execution_count": 6,
   "metadata": {},
   "outputs": [],
   "source": [
    "from matchgates.generators import XY_circuit\n",
    "\n",
    "n_qubits = 20  # number of qubits\n",
    "dt = 0.1  # trotter step time interval\n",
    "J = 0.5  # coupling strength\n",
    "h = 0.23  # tranverse field\n",
    "trotter_steps = 10  # number of trotter steps\n",
    "\n",
    "# generate the XY and Ising circuits.\n",
    "xy = XY_circuit(n_qubits=n_qubits, dt=dt, J=J, h=h, trotter_steps=trotter_steps)"
   ]
  },
  {
   "cell_type": "markdown",
   "metadata": {},
   "source": [
    "Prepare initial state and observables:"
   ]
  },
  {
   "cell_type": "code",
   "execution_count": 7,
   "metadata": {},
   "outputs": [],
   "source": [
    "from matchgates import Observable, ProductState\n",
    "\n",
    "obsz = Observable(name=\"Z\", qubits=[8], n_qubits=n_qubits)\n",
    "obsyx = Observable(name=\"YX\", qubits=[9, 10], n_qubits=n_qubits)\n",
    "\n",
    "# prepare initial product state.\n",
    "initial_state = ProductState.neel(even=True, n_qubits=n_qubits)"
   ]
  },
  {
   "cell_type": "markdown",
   "metadata": {},
   "source": [
    "To add noise to the circuit, need to make a choice of noise for each gate in the circuit.\n",
    "If all two qubit gates in the circuit have the same noise model, this noise model\n",
    "can be set up in a simple way:"
   ]
  },
  {
   "cell_type": "code",
   "execution_count": 8,
   "metadata": {},
   "outputs": [],
   "source": [
    "from matchgates import SingleGateNoise\n",
    "\n",
    "p = 0.002\n",
    "noise_channel = SingleGateNoise.matchgate_depolarizing(p=p)\n",
    "# matchgate depolarizing is equal probability of perturbation by\n",
    "# any matchgate Pauli (Z, ZZ, XY, YX, YY, XX).\n",
    "\n",
    "noisy_xy = xy.add_two_qubit_uniform_noise(noise_channel)  # Add noise to circuit."
   ]
  },
  {
   "cell_type": "markdown",
   "metadata": {},
   "source": [
    "A noisy circuit can be simulated using the simulate_noisy method.\n",
    "As the simulation is done by monte-carlo it is necessary to repeat\n",
    "over some number of repetitions, and this can be distributed over \n",
    "multiple jobs. What will be returned is a single dictionary with the \n",
    "mean values for all observables in the list, averaged over the\n",
    "repetitions specified."
   ]
  },
  {
   "cell_type": "code",
   "execution_count": 9,
   "metadata": {},
   "outputs": [
    {
     "name": "stdout",
     "output_type": "stream",
     "text": [
      "Results for XY circuit with noise: {'Z(8,)': np.float64(0.3796567285413587), 'YX(9, 10)': np.float64(0.11081567138737675)}\n"
     ]
    }
   ],
   "source": [
    "n_jobs = 20\n",
    "repetitions = 1000\n",
    "results = noisy_xy.simulate_noisy(n_jobs, [obsz, obsyx], repetitions, initial_state)\n",
    "print(\"Results for XY circuit with noise:\", results)"
   ]
  },
  {
   "cell_type": "markdown",
   "metadata": {},
   "source": [
    "In practice, I find it most convenient to loop the above over a large number of iterations\n",
    "and after each iterations append the results to a csv file. Then it is possible to access the\n",
    "data over multiple iterations and compute statistics (mean, std, etc.) to check how well \n",
    "converged the results are."
   ]
  },
  {
   "cell_type": "code",
   "execution_count": 11,
   "metadata": {},
   "outputs": [
    {
     "name": "stdout",
     "output_type": "stream",
     "text": [
      "Iteration:  0\n",
      "Time taken is  12.995606422424316\n",
      "Iteration:  1\n",
      "Time taken is  12.691557884216309\n",
      "Iteration:  2\n",
      "Time taken is  13.054940223693848\n",
      "Iteration:  3\n",
      "Time taken is  12.921587705612183\n"
     ]
    }
   ],
   "source": [
    "from time import time\n",
    "import pandas as pd\n",
    "\n",
    "start_time = time()\n",
    "\n",
    "iterations = 4\n",
    "\n",
    "for i in range(iterations):\n",
    "    results = noisy_xy.simulate_noisy(n_jobs, [obsz, obsyx], repetitions, initial_state)\n",
    "    new_results = {}\n",
    "    for key in results.keys():\n",
    "        new_results[key] = [results[key]]\n",
    "    df = pd.DataFrame(new_results)\n",
    "    if i == 0:\n",
    "        df.to_csv(\n",
    "            f\"examples/XY_p{p}_N{n_qubits}_J{J}_h{h}_steps{trotter_steps}_rep{repetitions}.csv\",\n",
    "            mode=\"w\",\n",
    "            header=True,\n",
    "            index=False,\n",
    "        )\n",
    "    else:\n",
    "        df.to_csv(\n",
    "            f\"examples/XY_p{p}_N{n_qubits}_J{J}_h{h}_steps{trotter_steps}_rep{repetitions}.csv\",\n",
    "            mode=\"a\",\n",
    "            header=False,\n",
    "            index=False,\n",
    "        )\n",
    "    print(\"Iteration: \", i)\n",
    "    print(\"Time taken is \", time() - start_time)\n",
    "    start_time = time()"
   ]
  }
 ],
 "metadata": {
  "kernelspec": {
   "display_name": "matchgates",
   "language": "python",
   "name": "python3"
  },
  "language_info": {
   "codemirror_mode": {
    "name": "ipython",
    "version": 3
   },
   "file_extension": ".py",
   "mimetype": "text/x-python",
   "name": "python",
   "nbconvert_exporter": "python",
   "pygments_lexer": "ipython3",
   "version": "3.12.5"
  }
 },
 "nbformat": 4,
 "nbformat_minor": 2
}
