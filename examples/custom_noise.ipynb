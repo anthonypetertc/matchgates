{
 "cells": [
  {
   "cell_type": "markdown",
   "metadata": {},
   "source": [
    "This example explains how to build a custom noise model for a circuit."
   ]
  },
  {
   "cell_type": "code",
   "execution_count": 15,
   "metadata": {},
   "outputs": [],
   "source": [
    "from matchgates.generators import XY_circuit\n",
    "from matchgates import SingleGateNoise, MatchGate, NoisyAppliedMatchGate, NoisyCircuit\n",
    "import numpy as np"
   ]
  },
  {
   "cell_type": "markdown",
   "metadata": {},
   "source": [
    "The first step is to generate a SingleGateNoise object, which is a noise channel whose kraus maps are scaled matchgates. These are specified by a list of pairs of a MatchGate and a number p (the probability of that matchgate noise being applied). In addition to this an additional number must also be given which is the probability of the identity occuring.\n",
    "Here is an example:"
   ]
  },
  {
   "cell_type": "code",
   "execution_count": 16,
   "metadata": {},
   "outputs": [],
   "source": [
    "noise1_params = MatchGate.empty_param_dict()\n",
    "noise1_params[\"xx\"] = -0.5\n",
    "noise1_params[\"z1\"] = -0.2\n",
    "noise2_params = MatchGate.empty_param_dict()\n",
    "noise2_params[\"xy\"] = -0.1\n",
    "\n",
    "noise1 = MatchGate(noise1_params)\n",
    "noise2 = MatchGate(noise2_params)\n",
    "\n",
    "id_prob = 0.4  # Probability of the identity occuring (i.e. no noise!)\n",
    "noise = SingleGateNoise([(noise1, 0.3), (noise2, 0.3)], id_prob)"
   ]
  },
  {
   "cell_type": "markdown",
   "metadata": {},
   "source": [
    "To apply this model to a circuit, there are two options:\n",
    "\n",
    "1. If all two qubit gates in the circuit have the same noise model then it is possible to add this noise model to a circuit directly using the add_two_qubit_uniform_noise method.\n",
    "2. Otherwise, specify the noise model of every gate in the circuit and build a NoisyCircuit object from this.\n",
    "\n",
    "We illustrate case 1. first:"
   ]
  },
  {
   "cell_type": "code",
   "execution_count": 17,
   "metadata": {},
   "outputs": [],
   "source": [
    "n_qubits = 10  # number of qubits\n",
    "dt = 0.1  # trotter step time interval\n",
    "J = 0.5  # coupling strength\n",
    "h = 0.23  # tranverse field\n",
    "trotter_steps = 5  # number of trotter steps\n",
    "\n",
    "# generate the XY and Ising circuits.\n",
    "xy = XY_circuit(n_qubits=n_qubits, dt=dt, J=J, h=h, trotter_steps=trotter_steps)\n",
    "\n",
    "noisy_xy = xy.add_two_qubit_uniform_noise(noise)  # returns a NoisyCircuit object!"
   ]
  },
  {
   "cell_type": "markdown",
   "metadata": {},
   "source": [
    "If instead, one wants to simulate a matchgate circuit with non-uniform noise model, it is necessary to insert add the desired noise model to every individual gate, as follows:"
   ]
  },
  {
   "cell_type": "code",
   "execution_count": 18,
   "metadata": {},
   "outputs": [],
   "source": [
    "depol_noise = SingleGateNoise.matchgate_depolarizing(\n",
    "    0.1\n",
    ")  # a different single qubit noise model.\n",
    "\n",
    "noisy_gates = []\n",
    "for gate in xy.gate_list:\n",
    "    if np.isclose(gate.mg.param_dict[\"xx\"], 0, atol=1e-8):\n",
    "        noisy_gate = NoisyAppliedMatchGate(\n",
    "            gate, noise\n",
    "        )  # We apply the custom built noise model to all the transverse fields.\n",
    "    else:\n",
    "        noisy_gate = NoisyAppliedMatchGate(\n",
    "            gate, depol_noise\n",
    "        )  # And we apply the matchgate-depolarizing noise to the 2-qubit gates.\n",
    "    noisy_gates.append(noisy_gate)\n",
    "\n",
    "noisy_circuit = NoisyCircuit(\n",
    "    xy.n_qubits, noisy_gates\n",
    ")  # Construct a NoisyCircuit object from the noisy gates."
   ]
  },
  {
   "cell_type": "markdown",
   "metadata": {},
   "source": [
    "Now that we have constructed a NoisyCircuit object using a custom noise model, it is possible to simulate this by following the example in `examples/noisy_circuits.ipynb`"
   ]
  }
 ],
 "metadata": {
  "kernelspec": {
   "display_name": "matchgates",
   "language": "python",
   "name": "python3"
  },
  "language_info": {
   "codemirror_mode": {
    "name": "ipython",
    "version": 3
   },
   "file_extension": ".py",
   "mimetype": "text/x-python",
   "name": "python",
   "nbconvert_exporter": "python",
   "pygments_lexer": "ipython3",
   "version": "3.12.5"
  }
 },
 "nbformat": 4,
 "nbformat_minor": 2
}
